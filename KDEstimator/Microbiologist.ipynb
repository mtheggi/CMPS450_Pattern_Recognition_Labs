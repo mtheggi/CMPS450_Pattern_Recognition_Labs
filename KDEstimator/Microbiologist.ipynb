{
 "cells": [
  {
   "cell_type": "markdown",
   "metadata": {},
   "source": [
    "# 🧬 Microbes Predictor"
   ]
  },
  {
   "cell_type": "markdown",
   "metadata": {},
   "source": [
    "In this notebook, we will transition from health experts to microbioligists to save lives. The reality of life is that sadly, it takes more than 24 h to grow up the bacteria recovered from the blood of an infected patient, identify the species, and then determine to which antibiotics the organism is resistant, leading to a very high mortality rate for such infections. \n",
    "\n",
    "Our goal in this notebook is to instantly identify the microbe using machine learning given extracted features about them. Our classes include the following ten microbes  (`Spirogyra`, `Volvox`, `Pithophora`, `Yeast`, `Raizopus`, `Penicillum`, `Aspergillus sp`, `Protozoa`, `Diatom`, `Ulothrix`).\n",
    "\n",
    "Our dataset have over 24K observations to help us learn to classify the microbes based on some meaningful features that you can read more about [here](https://www.kaggle.com/datasets/sayansh001/microbes-dataset)."
   ]
  },
  {
   "cell_type": "code",
   "execution_count": 17,
   "metadata": {},
   "outputs": [],
   "source": [
    "import numpy as np\n",
    "import matplotlib.pyplot as plt\n",
    "import pandas as pd\n",
    "from sklearn.model_selection import train_test_split"
   ]
  },
  {
   "cell_type": "markdown",
   "metadata": {},
   "source": [
    "#### Data Ingestion"
   ]
  },
  {
   "cell_type": "markdown",
   "metadata": {},
   "source": [
    "TODO 1: Download the dataset from [Kaggle](https://www.kaggle.com/datasets/sayansh001/microbes-dataset) and rename it into `microbes.csv` and manually put `Serial` as the name of the first column."
   ]
  },
  {
   "cell_type": "code",
   "execution_count": 18,
   "metadata": {},
   "outputs": [
    {
     "data": {
      "text/html": [
       "<div>\n",
       "<style scoped>\n",
       "    .dataframe tbody tr th:only-of-type {\n",
       "        vertical-align: middle;\n",
       "    }\n",
       "\n",
       "    .dataframe tbody tr th {\n",
       "        vertical-align: top;\n",
       "    }\n",
       "\n",
       "    .dataframe thead th {\n",
       "        text-align: right;\n",
       "    }\n",
       "</style>\n",
       "<table border=\"1\" class=\"dataframe\">\n",
       "  <thead>\n",
       "    <tr style=\"text-align: right;\">\n",
       "      <th></th>\n",
       "      <th>Unnamed: 0</th>\n",
       "      <th>Solidity</th>\n",
       "      <th>Eccentricity</th>\n",
       "      <th>EquivDiameter</th>\n",
       "      <th>Extrema</th>\n",
       "      <th>FilledArea</th>\n",
       "      <th>Extent</th>\n",
       "      <th>Orientation</th>\n",
       "      <th>EulerNumber</th>\n",
       "      <th>BoundingBox1</th>\n",
       "      <th>...</th>\n",
       "      <th>ConvexHull4</th>\n",
       "      <th>MajorAxisLength</th>\n",
       "      <th>MinorAxisLength</th>\n",
       "      <th>Perimeter</th>\n",
       "      <th>ConvexArea</th>\n",
       "      <th>Centroid1</th>\n",
       "      <th>Centroid2</th>\n",
       "      <th>Area</th>\n",
       "      <th>raddi</th>\n",
       "      <th>microorganisms</th>\n",
       "    </tr>\n",
       "  </thead>\n",
       "  <tbody>\n",
       "    <tr>\n",
       "      <th>0</th>\n",
       "      <td>0</td>\n",
       "      <td>10.70</td>\n",
       "      <td>15.8</td>\n",
       "      <td>5.43</td>\n",
       "      <td>3.75</td>\n",
       "      <td>0.785</td>\n",
       "      <td>8.14</td>\n",
       "      <td>2.1500</td>\n",
       "      <td>22.3</td>\n",
       "      <td>2.97</td>\n",
       "      <td>...</td>\n",
       "      <td>2.97</td>\n",
       "      <td>1.340</td>\n",
       "      <td>1.610</td>\n",
       "      <td>0.683</td>\n",
       "      <td>0.1950</td>\n",
       "      <td>3.63</td>\n",
       "      <td>12.10</td>\n",
       "      <td>1.310</td>\n",
       "      <td>7.99</td>\n",
       "      <td>Spirogyra</td>\n",
       "    </tr>\n",
       "    <tr>\n",
       "      <th>1</th>\n",
       "      <td>1</td>\n",
       "      <td>5.60</td>\n",
       "      <td>18.3</td>\n",
       "      <td>4.14</td>\n",
       "      <td>6.16</td>\n",
       "      <td>0.364</td>\n",
       "      <td>3.51</td>\n",
       "      <td>18.6000</td>\n",
       "      <td>22.5</td>\n",
       "      <td>5.41</td>\n",
       "      <td>...</td>\n",
       "      <td>5.47</td>\n",
       "      <td>1.520</td>\n",
       "      <td>1.520</td>\n",
       "      <td>1.010</td>\n",
       "      <td>0.2150</td>\n",
       "      <td>6.01</td>\n",
       "      <td>20.60</td>\n",
       "      <td>0.765</td>\n",
       "      <td>7.99</td>\n",
       "      <td>Spirogyra</td>\n",
       "    </tr>\n",
       "    <tr>\n",
       "      <th>2</th>\n",
       "      <td>2</td>\n",
       "      <td>8.32</td>\n",
       "      <td>19.8</td>\n",
       "      <td>4.63</td>\n",
       "      <td>6.66</td>\n",
       "      <td>0.415</td>\n",
       "      <td>5.85</td>\n",
       "      <td>21.0000</td>\n",
       "      <td>22.4</td>\n",
       "      <td>5.96</td>\n",
       "      <td>...</td>\n",
       "      <td>5.96</td>\n",
       "      <td>1.630</td>\n",
       "      <td>1.380</td>\n",
       "      <td>1.110</td>\n",
       "      <td>0.1820</td>\n",
       "      <td>6.55</td>\n",
       "      <td>11.50</td>\n",
       "      <td>0.953</td>\n",
       "      <td>7.99</td>\n",
       "      <td>Spirogyra</td>\n",
       "    </tr>\n",
       "    <tr>\n",
       "      <th>3</th>\n",
       "      <td>3</td>\n",
       "      <td>10.10</td>\n",
       "      <td>17.9</td>\n",
       "      <td>7.29</td>\n",
       "      <td>11.10</td>\n",
       "      <td>1.470</td>\n",
       "      <td>6.30</td>\n",
       "      <td>9.9400</td>\n",
       "      <td>21.9</td>\n",
       "      <td>8.81</td>\n",
       "      <td>...</td>\n",
       "      <td>8.88</td>\n",
       "      <td>2.040</td>\n",
       "      <td>2.120</td>\n",
       "      <td>0.715</td>\n",
       "      <td>0.3710</td>\n",
       "      <td>10.30</td>\n",
       "      <td>12.00</td>\n",
       "      <td>2.340</td>\n",
       "      <td>7.99</td>\n",
       "      <td>Spirogyra</td>\n",
       "    </tr>\n",
       "    <tr>\n",
       "      <th>4</th>\n",
       "      <td>4</td>\n",
       "      <td>6.27</td>\n",
       "      <td>20.2</td>\n",
       "      <td>20.10</td>\n",
       "      <td>10.70</td>\n",
       "      <td>14.700</td>\n",
       "      <td>3.97</td>\n",
       "      <td>2.5800</td>\n",
       "      <td>11.9</td>\n",
       "      <td>10.20</td>\n",
       "      <td>...</td>\n",
       "      <td>10.20</td>\n",
       "      <td>7.780</td>\n",
       "      <td>6.210</td>\n",
       "      <td>6.800</td>\n",
       "      <td>4.4400</td>\n",
       "      <td>14.00</td>\n",
       "      <td>9.55</td>\n",
       "      <td>17.600</td>\n",
       "      <td>7.99</td>\n",
       "      <td>Spirogyra</td>\n",
       "    </tr>\n",
       "    <tr>\n",
       "      <th>5</th>\n",
       "      <td>5</td>\n",
       "      <td>9.47</td>\n",
       "      <td>18.4</td>\n",
       "      <td>4.27</td>\n",
       "      <td>14.60</td>\n",
       "      <td>0.400</td>\n",
       "      <td>7.29</td>\n",
       "      <td>20.1000</td>\n",
       "      <td>22.5</td>\n",
       "      <td>13.60</td>\n",
       "      <td>...</td>\n",
       "      <td>13.60</td>\n",
       "      <td>1.080</td>\n",
       "      <td>1.070</td>\n",
       "      <td>0.963</td>\n",
       "      <td>0.1360</td>\n",
       "      <td>14.10</td>\n",
       "      <td>15.50</td>\n",
       "      <td>0.812</td>\n",
       "      <td>7.99</td>\n",
       "      <td>Spirogyra</td>\n",
       "    </tr>\n",
       "    <tr>\n",
       "      <th>6</th>\n",
       "      <td>6</td>\n",
       "      <td>13.50</td>\n",
       "      <td>19.8</td>\n",
       "      <td>4.50</td>\n",
       "      <td>17.30</td>\n",
       "      <td>0.493</td>\n",
       "      <td>9.67</td>\n",
       "      <td>0.0334</td>\n",
       "      <td>22.2</td>\n",
       "      <td>16.80</td>\n",
       "      <td>...</td>\n",
       "      <td>16.90</td>\n",
       "      <td>1.170</td>\n",
       "      <td>0.981</td>\n",
       "      <td>0.381</td>\n",
       "      <td>0.1070</td>\n",
       "      <td>17.20</td>\n",
       "      <td>7.88</td>\n",
       "      <td>0.903</td>\n",
       "      <td>7.99</td>\n",
       "      <td>Spirogyra</td>\n",
       "    </tr>\n",
       "    <tr>\n",
       "      <th>7</th>\n",
       "      <td>7</td>\n",
       "      <td>15.60</td>\n",
       "      <td>19.6</td>\n",
       "      <td>4.16</td>\n",
       "      <td>19.60</td>\n",
       "      <td>0.352</td>\n",
       "      <td>12.10</td>\n",
       "      <td>0.6270</td>\n",
       "      <td>22.3</td>\n",
       "      <td>19.30</td>\n",
       "      <td>...</td>\n",
       "      <td>19.30</td>\n",
       "      <td>0.979</td>\n",
       "      <td>0.845</td>\n",
       "      <td>0.328</td>\n",
       "      <td>0.0789</td>\n",
       "      <td>19.50</td>\n",
       "      <td>12.30</td>\n",
       "      <td>0.771</td>\n",
       "      <td>7.99</td>\n",
       "      <td>Spirogyra</td>\n",
       "    </tr>\n",
       "    <tr>\n",
       "      <th>8</th>\n",
       "      <td>8</td>\n",
       "      <td>8.95</td>\n",
       "      <td>20.0</td>\n",
       "      <td>8.59</td>\n",
       "      <td>3.28</td>\n",
       "      <td>1.520</td>\n",
       "      <td>5.50</td>\n",
       "      <td>9.0800</td>\n",
       "      <td>21.1</td>\n",
       "      <td>1.20</td>\n",
       "      <td>...</td>\n",
       "      <td>1.22</td>\n",
       "      <td>2.770</td>\n",
       "      <td>2.260</td>\n",
       "      <td>3.420</td>\n",
       "      <td>0.5760</td>\n",
       "      <td>3.32</td>\n",
       "      <td>11.60</td>\n",
       "      <td>3.240</td>\n",
       "      <td>9.69</td>\n",
       "      <td>Spirogyra</td>\n",
       "    </tr>\n",
       "    <tr>\n",
       "      <th>9</th>\n",
       "      <td>9</td>\n",
       "      <td>11.20</td>\n",
       "      <td>17.4</td>\n",
       "      <td>3.53</td>\n",
       "      <td>4.33</td>\n",
       "      <td>0.332</td>\n",
       "      <td>8.37</td>\n",
       "      <td>14.7000</td>\n",
       "      <td>22.6</td>\n",
       "      <td>3.60</td>\n",
       "      <td>...</td>\n",
       "      <td>3.60</td>\n",
       "      <td>0.896</td>\n",
       "      <td>0.966</td>\n",
       "      <td>0.347</td>\n",
       "      <td>0.0801</td>\n",
       "      <td>4.13</td>\n",
       "      <td>9.27</td>\n",
       "      <td>0.560</td>\n",
       "      <td>9.69</td>\n",
       "      <td>Spirogyra</td>\n",
       "    </tr>\n",
       "  </tbody>\n",
       "</table>\n",
       "<p>10 rows × 26 columns</p>\n",
       "</div>"
      ],
      "text/plain": [
       "   Unnamed: 0  Solidity  Eccentricity  EquivDiameter  Extrema  FilledArea  \\\n",
       "0           0     10.70          15.8           5.43     3.75       0.785   \n",
       "1           1      5.60          18.3           4.14     6.16       0.364   \n",
       "2           2      8.32          19.8           4.63     6.66       0.415   \n",
       "3           3     10.10          17.9           7.29    11.10       1.470   \n",
       "4           4      6.27          20.2          20.10    10.70      14.700   \n",
       "5           5      9.47          18.4           4.27    14.60       0.400   \n",
       "6           6     13.50          19.8           4.50    17.30       0.493   \n",
       "7           7     15.60          19.6           4.16    19.60       0.352   \n",
       "8           8      8.95          20.0           8.59     3.28       1.520   \n",
       "9           9     11.20          17.4           3.53     4.33       0.332   \n",
       "\n",
       "   Extent  Orientation  EulerNumber  BoundingBox1  ...  ConvexHull4  \\\n",
       "0    8.14       2.1500         22.3          2.97  ...         2.97   \n",
       "1    3.51      18.6000         22.5          5.41  ...         5.47   \n",
       "2    5.85      21.0000         22.4          5.96  ...         5.96   \n",
       "3    6.30       9.9400         21.9          8.81  ...         8.88   \n",
       "4    3.97       2.5800         11.9         10.20  ...        10.20   \n",
       "5    7.29      20.1000         22.5         13.60  ...        13.60   \n",
       "6    9.67       0.0334         22.2         16.80  ...        16.90   \n",
       "7   12.10       0.6270         22.3         19.30  ...        19.30   \n",
       "8    5.50       9.0800         21.1          1.20  ...         1.22   \n",
       "9    8.37      14.7000         22.6          3.60  ...         3.60   \n",
       "\n",
       "   MajorAxisLength  MinorAxisLength  Perimeter  ConvexArea  Centroid1  \\\n",
       "0            1.340            1.610      0.683      0.1950       3.63   \n",
       "1            1.520            1.520      1.010      0.2150       6.01   \n",
       "2            1.630            1.380      1.110      0.1820       6.55   \n",
       "3            2.040            2.120      0.715      0.3710      10.30   \n",
       "4            7.780            6.210      6.800      4.4400      14.00   \n",
       "5            1.080            1.070      0.963      0.1360      14.10   \n",
       "6            1.170            0.981      0.381      0.1070      17.20   \n",
       "7            0.979            0.845      0.328      0.0789      19.50   \n",
       "8            2.770            2.260      3.420      0.5760       3.32   \n",
       "9            0.896            0.966      0.347      0.0801       4.13   \n",
       "\n",
       "   Centroid2    Area  raddi  microorganisms  \n",
       "0      12.10   1.310   7.99       Spirogyra  \n",
       "1      20.60   0.765   7.99       Spirogyra  \n",
       "2      11.50   0.953   7.99       Spirogyra  \n",
       "3      12.00   2.340   7.99       Spirogyra  \n",
       "4       9.55  17.600   7.99       Spirogyra  \n",
       "5      15.50   0.812   7.99       Spirogyra  \n",
       "6       7.88   0.903   7.99       Spirogyra  \n",
       "7      12.30   0.771   7.99       Spirogyra  \n",
       "8      11.60   3.240   9.69       Spirogyra  \n",
       "9       9.27   0.560   9.69       Spirogyra  \n",
       "\n",
       "[10 rows x 26 columns]"
      ]
     },
     "execution_count": 18,
     "metadata": {},
     "output_type": "execute_result"
    }
   ],
   "source": [
    "dataset = pd.read_csv('microbes.csv')\n",
    "\n",
    "dataset.head(10)"
   ]
  },
  {
   "cell_type": "markdown",
   "metadata": {},
   "source": [
    "#### Data Cleaning"
   ]
  },
  {
   "cell_type": "code",
   "execution_count": 19,
   "metadata": {},
   "outputs": [
    {
     "name": "stdout",
     "output_type": "stream",
     "text": [
      "Number of missing values: 0\n"
     ]
    }
   ],
   "source": [
    "num_missing_vals = dataset.isnull().sum().sum()\n",
    "print(f\"Number of missing values: {num_missing_vals}\")"
   ]
  },
  {
   "cell_type": "markdown",
   "metadata": {},
   "source": [
    "#### Split the Dataset"
   ]
  },
  {
   "cell_type": "code",
   "execution_count": 24,
   "metadata": {},
   "outputs": [],
   "source": [
    "# column split\n",
    "x_data = dataset.drop(columns=['Unnamed: 0','microorganisms'])     # Serial is ID and microorganisms is target\n",
    "x_data = x_data.iloc[:, :10]                                    # First ten features contain enough information\n",
    "y_data = dataset['microorganisms']                              # Target variable\n",
    "\n",
    "# train-test split\n",
    "x_data, y_data = x_data.to_numpy(), y_data.to_numpy()\n",
    "x_train, x_val, y_train, y_val = train_test_split(x_data, y_data, test_size=0.2, random_state=0, stratify=y_data)"
   ]
  },
  {
   "cell_type": "markdown",
   "metadata": {},
   "source": [
    "#### Exploratory Analysis"
   ]
  },
  {
   "cell_type": "code",
   "execution_count": 26,
   "metadata": {},
   "outputs": [
    {
     "data": {
      "text/plain": [
       "<BarContainer object of 10 artists>"
      ]
     },
     "execution_count": 26,
     "metadata": {},
     "output_type": "execute_result"
    },
    {
     "data": {
      "image/png": "[encoded data removed]",
      "text/plain": [
       "<Figure size 1500x300 with 1 Axes>"
      ]
     },
     "metadata": {},
     "output_type": "display_data"
    }
   ],
   "source": [
    "plt.style.use('dark_background')\n",
    "plt.figure(figsize=(10, 2), dpi=150)\n",
    "plt.xticks(rotation=90)\n",
    "labels, counts = np.unique(y_train, return_counts=True)\n",
    "plt.bar(labels, counts, align='center')"
   ]
  },
  {
   "cell_type": "markdown",
   "metadata": {},
   "source": [
    "## 😎 Put on Your Machine Learning Engineer Goggles"
   ]
  },
  {
   "cell_type": "code",
   "execution_count": 27,
   "metadata": {},
   "outputs": [],
   "source": [
    "from sklearn.naive_bayes import GaussianNB\n",
    "from sklearn.discriminant_analysis import LinearDiscriminantAnalysis, QuadraticDiscriminantAnalysis\n",
    "from sklearn.metrics import accuracy_score\n",
    "\n",
    "from BayesClassifier import BayesClassifier\n",
    "from KDEstimator import KDEstimator"
   ]
  },
  {
   "cell_type": "markdown",
   "metadata": {},
   "source": [
    "### Gaussian Naive Bayes"
   ]
  },
  {
   "cell_type": "code",
   "execution_count": 28,
   "metadata": {},
   "outputs": [
    {
     "name": "stdout",
     "output_type": "stream",
     "text": [
      "Gaussian Naive Bayes Accuracy: 0.2601\n"
     ]
    }
   ],
   "source": [
    "# Initiate\n",
    "gnb_model = BayesClassifier(mode='GNB')\n",
    "# Fit\n",
    "gnb_model.fit(x_train, y_train)\n",
    "# Predict\n",
    "gnb_y_pred = gnb_model.predict(x_val)\n",
    "# Evalute\n",
    "gnb_accuracy = gnb_model.score(x_val, y_val)\n",
    "print(\"Gaussian Naive Bayes Accuracy:\", gnb_accuracy)"
   ]
  },
  {
   "cell_type": "markdown",
   "metadata": {},
   "source": [
    "<img src=\"https://media1.tenor.com/m/P1kvseQ5INIAAAAd/blank-stare-really.gif\" width=\"200\"/>"
   ]
  },
  {
   "cell_type": "markdown",
   "metadata": {},
   "source": [
    "#### Linear Discriminant Analysis"
   ]
  },
  {
   "cell_type": "code",
   "execution_count": 29,
   "metadata": {},
   "outputs": [
    {
     "name": "stdout",
     "output_type": "stream",
     "text": [
      "Linear Discriminant Analysis Accuracy: 0.3744\n"
     ]
    }
   ],
   "source": [
    "# Initiate\n",
    "lda_model = BayesClassifier(mode='LDA')\n",
    "# Fit\n",
    "lda_model.fit(x_train, y_train)\n",
    "# Predict\n",
    "lda_y_pred = lda_model.predict(x_val)\n",
    "# Evaluate\n",
    "lda_accuracy = lda_model.score(x_val, y_val)\n",
    "print(\"Linear Discriminant Analysis Accuracy:\", lda_accuracy)"
   ]
  },
  {
   "cell_type": "markdown",
   "metadata": {},
   "source": [
    "<img src=\"https://media1.tenor.com/m/lL6lmpGAtSwAAAAd/cat-kid-retekmacska.gif\" width=200/>"
   ]
  },
  {
   "cell_type": "markdown",
   "metadata": {},
   "source": [
    "#### Quadratic Discriminant Analysis"
   ]
  },
  {
   "cell_type": "code",
   "execution_count": 30,
   "metadata": {},
   "outputs": [
    {
     "name": "stdout",
     "output_type": "stream",
     "text": [
      "Quadratic Discriminant Analysis Accuracy: 0.3413\n"
     ]
    }
   ],
   "source": [
    "qda_model = BayesClassifier(mode='QDA')\n",
    "qda_model.fit(x_train, y_train)\n",
    "qda_y_pred = qda_model.predict(x_val)\n",
    "qda_accuracy = qda_model.score(x_val, y_val)\n",
    "print(\"Quadratic Discriminant Analysis Accuracy:\", qda_accuracy)"
   ]
  },
  {
   "cell_type": "markdown",
   "metadata": {},
   "source": [
    "<img src=\"https://media1.tenor.com/m/AFKVFcP5to8AAAAd/julesmaru-really.gif\" width=\"250\"/>"
   ]
  },
  {
   "cell_type": "markdown",
   "metadata": {},
   "source": [
    "#### Kernel Density Estimation"
   ]
  },
  {
   "cell_type": "code",
   "execution_count": 38,
   "metadata": {},
   "outputs": [
    {
     "name": "stdout",
     "output_type": "stream",
     "text": [
      "Bayes Classifier with KDE Accuracy: 0.9694\n"
     ]
    }
   ],
   "source": [
    "# TODO 2: Call KDEstimator with Gauss bump and bandwidth=0.5\n",
    "kde_config = KDEstimator(bump='Gauss', bandwidth=1)\n",
    "# TODO 3: Call BayesClassifier in KDE mode and pass it that instance\n",
    "kde_model = BayesClassifier(mode='KDE', kde_config=kde_config)\n",
    "kde_model.fit(x_train, y_train)\n",
    "kde_y_pred = kde_model.predict(x_val)\n",
    "kde_accuracy = kde_model.score(x_val, y_val)\n",
    "print(\"Bayes Classifier with KDE Accuracy:\", kde_accuracy)"
   ]
  },
  {
   "cell_type": "markdown",
   "metadata": {},
   "source": [
    "<img src=\"https://media1.tenor.com/m/QxqYH15_UxYAAAAd/wow-omg.gif\" width=\"250\">"
   ]
  },
  {
   "cell_type": "markdown",
   "metadata": {},
   "source": [
    "#### 1. Explain why all three of GNB, LDA, QDA performed much worse than KDE:\n",
    "    \n",
    "    this is mainly due to the assumstion of the first three models that the features are normally distributed, which is not the case in our dataset.\n",
    "    still, do not know how LDA is better than QDA in this case.?? "
   ]
  },
  {
   "cell_type": "code",
   "execution_count": null,
   "metadata": {},
   "outputs": [],
   "source": [
    "'''\n",
    "Answer goes here. You can use the same argument to explain why LDA was better than QDA.\n",
    "'''"
   ]
  },
  {
   "cell_type": "markdown",
   "metadata": {},
   "source": [
    "#### 2. Why is Bayes Classifier with KDE much slower than Bayes Classifier with normality assumption. Explain in light of the inference complexity for both (even if roughly):\n",
    "\n",
    "assuming naive approach(not using numpy)\n",
    "* Bayes Classifier with KDE:\n",
    "    - assuming having ***N features*** ana M data points\n",
    "    - For each data point, KDE involves evaluating the kernel     \n",
    "    function at every other data point to estimate the density at that point. If there are M data points, this operation needs to be performed for each data point.\n",
    "\n",
    "    - Assuming a naive approach(not using numpy ), where each evaluation takes `O(M)` time, the overall complexity in one dimention becomes `O(M^2)` , so applying this to N dimentions, the overall complexity becomes `O(M^2 * N)`\n",
    "* Bayes Classifier with normality assumption:\n",
    "    - Assuming having ***N features*** and ***M data points***\n",
    "    - calculating the p(x|c) is done by evaluating the normal distribution function at each data point, which takes `O(N)` time, so the overall complexity becomes `O(N * M)`"
   ]
  },
  {
   "cell_type": "code",
   "execution_count": null,
   "metadata": {},
   "outputs": [],
   "source": [
    "'''\n",
    "Answer goes here\n",
    "'''"
   ]
  },
  {
   "cell_type": "markdown",
   "metadata": {},
   "source": [
    "#### 3. Deduce why the performance does not get better when Silverman bandwidth is used"
   ]
  },
  {
   "cell_type": "markdown",
   "metadata": {},
   "source": [
    "Silverman  can yield widely inaccurate estimates when the density is not close to being normal. (still not sure why ?? )"
   ]
  },
  {
   "cell_type": "markdown",
   "metadata": {},
   "source": []
  },
  {
   "cell_type": "code",
   "execution_count": null,
   "metadata": {},
   "outputs": [],
   "source": [
    "'''\n",
    "Answer goes here. \n",
    "This may help https://en.wikipedia.org/wiki/Kernel_density_estimation#A_rule-of-thumb_bandwidth_estimator\n",
    "'''"
   ]
  },
  {
   "cell_type": "markdown",
   "metadata": {},
   "source": [
    "#### [Extra] Try to exceed the current KDE accuracy by trying different hyperparameters (bandwidth or bump)"
   ]
  }
 ],
 "metadata": {
  "kernelspec": {
   "display_name": "Python 3",
   "language": "python",
   "name": "python3"
  },
  "language_info": {
   "codemirror_mode": {
    "name": "ipython",
    "version": 3
   },
   "file_extension": ".py",
   "mimetype": "text/x-python",
   "name": "python",
   "nbconvert_exporter": "python",
   "pygments_lexer": "ipython3",
   "version": "3.10.12"
  }
 },
 "nbformat": 4,
 "nbformat_minor": 2
}
