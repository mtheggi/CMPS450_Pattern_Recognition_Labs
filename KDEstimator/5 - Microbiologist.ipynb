{
 "cells": [
  {
   "cell_type": "markdown",
   "metadata": {},
   "source": [
    "# 🧬 Microbes Predictor"
   ]
  },
  {
   "cell_type": "markdown",
   "metadata": {},
   "source": [
    "In this notebook, we will transition from health experts to microbioligists to save lives. The reality of life is that sadly, it takes more than 24 h to grow up the bacteria recovered from the blood of an infected patient, identify the species, and then determine to which antibiotics the organism is resistant, leading to a very high mortality rate for such infections. \n",
    "\n",
    "Our goal in this notebook is to instantly identify the microbe using machine learning given extracted features about them. Our classes include the following ten microbes  (`Spirogyra`, `Volvox`, `Pithophora`, `Yeast`, `Raizopus`, `Penicillum`, `Aspergillus sp`, `Protozoa`, `Diatom`, `Ulothrix`).\n",
    "\n",
    "Our dataset have over 24K observations to help us learn to classify the microbes based on some meaningful features that you can read more about [here](https://www.kaggle.com/datasets/sayansh001/microbes-dataset)."
   ]
  },
  {
   "cell_type": "code",
   "execution_count": null,
   "metadata": {},
   "outputs": [],
   "source": [
    "import numpy as np\n",
    "import matplotlib.pyplot as plt\n",
    "import pandas as pd\n",
    "from sklearn.model_selection import train_test_split"
   ]
  },
  {
   "cell_type": "markdown",
   "metadata": {},
   "source": [
    "#### Data Ingestion"
   ]
  },
  {
   "cell_type": "markdown",
   "metadata": {},
   "source": [
    "TODO 1: Download the dataset from [Kaggle](https://www.kaggle.com/datasets/sayansh001/microbes-dataset) and rename it into `microbes.csv` and manually put `Serial` as the name of the first column."
   ]
  },
  {
   "cell_type": "code",
   "execution_count": null,
   "metadata": {},
   "outputs": [],
   "source": [
    "dataset = pd.read_csv('microbes.csv')\n",
    "\n",
    "dataset.head(10)"
   ]
  },
  {
   "cell_type": "markdown",
   "metadata": {},
   "source": [
    "#### Data Cleaning"
   ]
  },
  {
   "cell_type": "code",
   "execution_count": null,
   "metadata": {},
   "outputs": [],
   "source": [
    "num_missing_vals = dataset.isnull().sum().sum()\n",
    "print(f\"Number of missing values: {num_missing_vals}\")"
   ]
  },
  {
   "cell_type": "markdown",
   "metadata": {},
   "source": [
    "#### Split the Dataset"
   ]
  },
  {
   "cell_type": "code",
   "execution_count": null,
   "metadata": {},
   "outputs": [],
   "source": [
    "# column split\n",
    "x_data = dataset.drop(columns=['Serial', 'microorganisms'])     # Serial is ID and microorganisms is target\n",
    "x_data = x_data.iloc[:, :10]                                    # First ten features contain enough information\n",
    "y_data = dataset['microorganisms']                              # Target variable\n",
    "\n",
    "# train-test split\n",
    "x_data, y_data = x_data.to_numpy(), y_data.to_numpy()\n",
    "x_train, x_val, y_train, y_val = train_test_split(x_data, y_data, test_size=0.2, random_state=0, stratify=y_data)"
   ]
  },
  {
   "cell_type": "markdown",
   "metadata": {},
   "source": [
    "#### Exploratory Analysis"
   ]
  },
  {
   "cell_type": "code",
   "execution_count": null,
   "metadata": {},
   "outputs": [],
   "source": [
    "plt.style.use('dark_background')\n",
    "plt.figure(figsize=(10, 2), dpi=150)\n",
    "plt.xticks(rotation=90)\n",
    "labels, counts = np.unique(y_train, return_counts=True)\n",
    "plt.bar(labels, counts, align='center')"
   ]
  },
  {
   "cell_type": "markdown",
   "metadata": {},
   "source": [
    "## 😎 Put on Your Machine Learning Engineer Goggles"
   ]
  },
  {
   "cell_type": "code",
   "execution_count": null,
   "metadata": {},
   "outputs": [],
   "source": [
    "from sklearn.naive_bayes import GaussianNB\n",
    "from sklearn.discriminant_analysis import LinearDiscriminantAnalysis, QuadraticDiscriminantAnalysis\n",
    "from sklearn.metrics import accuracy_score\n",
    "\n",
    "from BayesClassifier import BayesClassifier\n",
    "from KDEstimator import KDEstimator"
   ]
  },
  {
   "cell_type": "markdown",
   "metadata": {},
   "source": [
    "### Gaussian Naive Bayes"
   ]
  },
  {
   "cell_type": "code",
   "execution_count": null,
   "metadata": {},
   "outputs": [],
   "source": [
    "# Initiate\n",
    "gnb_model = BayesClassifier(mode='GNB')\n",
    "# Fit\n",
    "gnb_model.fit(x_train, y_train)\n",
    "# Predict\n",
    "gnb_y_pred = gnb_model.predict(x_val)\n",
    "# Evalute\n",
    "gnb_accuracy = gnb_model.score(x_val, y_val)\n",
    "print(\"Gaussian Naive Bayes Accuracy:\", gnb_accuracy)"
   ]
  },
  {
   "cell_type": "markdown",
   "metadata": {},
   "source": [
    "<img src=\"https://media1.tenor.com/m/P1kvseQ5INIAAAAd/blank-stare-really.gif\" width=\"200\"/>"
   ]
  },
  {
   "cell_type": "markdown",
   "metadata": {},
   "source": [
    "#### Linear Discriminant Analysis"
   ]
  },
  {
   "cell_type": "code",
   "execution_count": null,
   "metadata": {},
   "outputs": [],
   "source": [
    "# Initiate\n",
    "lda_model = BayesClassifier(mode='LDA')\n",
    "# Fit\n",
    "lda_model.fit(x_train, y_train)\n",
    "# Predict\n",
    "lda_y_pred = lda_model.predict(x_val)\n",
    "# Evaluate\n",
    "lda_accuracy = lda_model.score(x_val, y_val)\n",
    "print(\"Linear Discriminant Analysis Accuracy:\", lda_accuracy)"
   ]
  },
  {
   "cell_type": "markdown",
   "metadata": {},
   "source": [
    "<img src=\"https://media1.tenor.com/m/lL6lmpGAtSwAAAAd/cat-kid-retekmacska.gif\" width=200/>"
   ]
  },
  {
   "cell_type": "markdown",
   "metadata": {},
   "source": [
    "#### Quadratic Discriminant Analysis"
   ]
  },
  {
   "cell_type": "code",
   "execution_count": null,
   "metadata": {},
   "outputs": [],
   "source": [
    "qda_model = BayesClassifier(mode='QDA')\n",
    "qda_model.fit(x_train, y_train)\n",
    "qda_y_pred = qda_model.predict(x_val)\n",
    "qda_accuracy = qda_model.score(x_val, y_val)\n",
    "print(\"Quadratic Discriminant Analysis Accuracy:\", qda_accuracy)"
   ]
  },
  {
   "cell_type": "markdown",
   "metadata": {},
   "source": [
    "<img src=\"https://media1.tenor.com/m/AFKVFcP5to8AAAAd/julesmaru-really.gif\" width=\"250\"/>"
   ]
  },
  {
   "cell_type": "markdown",
   "metadata": {},
   "source": [
    "#### Kernel Density Estimation"
   ]
  },
  {
   "cell_type": "code",
   "execution_count": null,
   "metadata": {},
   "outputs": [],
   "source": [
    "# TODO 2: Call KDEstimator with Gauss bump and bandwidth=0.5\n",
    "kde_config = None\n",
    "# TODO 3: Call BayesClassifier in KDE mode and pass it that instance\n",
    "kde_model = None\n",
    "kde_model.fit(x_train, y_train)\n",
    "kde_y_pred = kde_model.predict(x_val)\n",
    "kde_accuracy = kde_model.score(x_val, y_val)\n",
    "print(\"Bayes Classifier with KDE Accuracy:\", kde_accuracy)"
   ]
  },
  {
   "cell_type": "markdown",
   "metadata": {},
   "source": [
    "<img src=\"https://media1.tenor.com/m/QxqYH15_UxYAAAAd/wow-omg.gif\" width=\"250\">"
   ]
  },
  {
   "cell_type": "markdown",
   "metadata": {},
   "source": [
    "#### 1. Explain why all three of GNB, LDA, QDA performed much worse than KDE:"
   ]
  },
  {
   "cell_type": "code",
   "execution_count": null,
   "metadata": {},
   "outputs": [],
   "source": [
    "'''\n",
    "Answer goes here. You can use the same argument to explain why LDA was better than QDA.\n",
    "'''"
   ]
  },
  {
   "cell_type": "markdown",
   "metadata": {},
   "source": [
    "#### 2. Why is Bayes Classifier with KDE much slower than Bayes Classifier with normality assumption. Explain in light of the inference complexity for both (even if roughly):"
   ]
  },
  {
   "cell_type": "code",
   "execution_count": null,
   "metadata": {},
   "outputs": [],
   "source": [
    "'''\n",
    "Answer goes here\n",
    "'''"
   ]
  },
  {
   "cell_type": "markdown",
   "metadata": {},
   "source": [
    "#### 3. Deduce why the performance does not get better when Silverman bandwidth is used"
   ]
  },
  {
   "cell_type": "code",
   "execution_count": null,
   "metadata": {},
   "outputs": [],
   "source": [
    "'''\n",
    "Answer goes here. \n",
    "This may help https://en.wikipedia.org/wiki/Kernel_density_estimation#A_rule-of-thumb_bandwidth_estimator\n",
    "'''"
   ]
  },
  {
   "cell_type": "markdown",
   "metadata": {},
   "source": [
    "#### [Extra] Try to exceed the current KDE accuracy by trying different hyperparameters (bandwidth or bump)"
   ]
  }
 ],
 "metadata": {
  "kernelspec": {
   "display_name": "Python 3",
   "language": "python",
   "name": "python3"
  },
  "language_info": {
   "codemirror_mode": {
    "name": "ipython",
    "version": 3
   },
   "file_extension": ".py",
   "mimetype": "text/x-python",
   "name": "python",
   "nbconvert_exporter": "python",
   "pygments_lexer": "ipython3",
   "version": "3.12.2"
  }
 },
 "nbformat": 4,
 "nbformat_minor": 2
}
