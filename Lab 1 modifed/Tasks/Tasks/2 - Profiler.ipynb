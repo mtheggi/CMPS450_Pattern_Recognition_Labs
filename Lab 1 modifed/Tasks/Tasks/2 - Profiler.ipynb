{
 "cells": [
  {
   "cell_type": "markdown",
   "metadata": {},
   "source": [
    "## ⚡ Profiler"
   ]
  },
  {
   "cell_type": "markdown",
   "metadata": {},
   "source": [
    "- Implement element-wise multiplication in two ways\n",
    "    - In the first, implement it in one line using list comprehension and `zip`\n",
    "    - In the second, use numpy to perform it in one line as well"
   ]
  },
  {
   "cell_type": "markdown",
   "metadata": {},
   "source": [
    "**Expected Time To Finish Task:** ≤ 10 Minutes"
   ]
  },
  {
   "cell_type": "code",
   "execution_count": 5,
   "metadata": {},
   "outputs": [],
   "source": [
    "import numpy as np\n",
    "\n",
    "def python_multiply(A:list[float], B:list[float]) -> list[float]:\n",
    "    # TODO [1]: Return the element-wise product of A and B using pure Python\n",
    "    \n",
    "    return [x*y for x,y in zip(A,B)]\n",
    "\n",
    "def numpy_multiply(A: np.ndarray, B: np.ndarray) -> np.ndarray:\n",
    "    # TODO [2]: Return the element-wise product of A and B using NumPy\n",
    "    return A*B"
   ]
  },
  {
   "cell_type": "code",
   "execution_count": 6,
   "metadata": {},
   "outputs": [],
   "source": [
    "A = [1, 2, 3, 4]\n",
    "B = [2, 3, 4, 5]\n",
    "assert python_multiply(A, B) == [2, 6, 12, 20]\n",
    "assert (numpy_multiply(np.array(A), np.array(B)) == np.array([2, 6, 12, 20])).all()"
   ]
  },
  {
   "cell_type": "markdown",
   "metadata": {},
   "source": [
    "Now let's compare both functions"
   ]
  },
  {
   "cell_type": "code",
   "execution_count": 7,
   "metadata": {},
   "outputs": [
    {
     "name": "stdout",
     "output_type": "stream",
     "text": [
      "[('python_multiply', 0.002495694160461426), ('numpy_multiply', 0.0022193121910095213)]\n"
     ]
    }
   ],
   "source": [
    "import time\n",
    "\n",
    "def multiply_benchmark(*functions):\n",
    "    benchmarks = []\n",
    "    # loop over each given function, we want to test each over 100 multiplications\n",
    "    for i, func in enumerate(functions):\n",
    "        total_time = 0\n",
    "        for _ in range(100):\n",
    "            # TODO [3]: Generate two random lists of length 100000\n",
    "            list1 = np.random.rand(1, 1000000)\n",
    "            list2 = np.random.rand(1, 1000000)\n",
    "\n",
    "            # Measure the time taken for the operation\n",
    "            if i == 1: list1, list2 = np.array(list1), np.array(list2)\n",
    "            start_time = time.time()\n",
    "            func(list1, list2)\n",
    "            end_time = time.time()\n",
    "\n",
    "            # TODO [4]: Add the time taken to the total time\n",
    "            total_time += (end_time - start_time)\n",
    "\n",
    "        # TODO [5]: Calculate the average time over the 100 multiplications\n",
    "        avg_time = total_time / 100\n",
    "        # append the function name and average time to the list\n",
    "        benchmarks.append((func.__name__, avg_time))\n",
    "\n",
    "    return benchmarks\n",
    "\n",
    "\n",
    "benchmarks = multiply_benchmark(python_multiply, numpy_multiply)\n",
    "print(benchmarks)"
   ]
  },
  {
   "cell_type": "markdown",
   "metadata": {},
   "source": [
    "What do you notice from the output above and why?"
   ]
  },
  {
   "cell_type": "code",
   "execution_count": null,
   "metadata": {},
   "outputs": [],
   "source": [
    "'''\n",
    "Answer goes here\n",
    "'''\n",
    "# numpy is slighlty faster "
   ]
  },
  {
   "cell_type": "markdown",
   "metadata": {},
   "source": [
    "Would multithreading help speed the pure Python function? Why?"
   ]
  },
  {
   "cell_type": "code",
   "execution_count": null,
   "metadata": {},
   "outputs": [],
   "source": [
    "'''\n",
    "Answer goes here\n",
    "'''\n",
    "# no it does not help becuase because there is no multithreading in python \n"
   ]
  }
 ],
 "metadata": {
  "kernelspec": {
   "display_name": "Python 3",
   "language": "python",
   "name": "python3"
  },
  "language_info": {
   "codemirror_mode": {
    "name": "ipython",
    "version": 3
   },
   "file_extension": ".py",
   "mimetype": "text/x-python",
   "name": "python",
   "nbconvert_exporter": "python",
   "pygments_lexer": "ipython3",
   "version": "3.10.12"
  }
 },
 "nbformat": 4,
 "nbformat_minor": 2
}
