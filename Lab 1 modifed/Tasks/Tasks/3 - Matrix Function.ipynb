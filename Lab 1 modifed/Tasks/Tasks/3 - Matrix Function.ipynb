{
 "cells": [
  {
   "cell_type": "markdown",
   "metadata": {},
   "source": [
    "## 📚 Matrix Function"
   ]
  },
  {
   "cell_type": "markdown",
   "metadata": {},
   "source": [
    "You are required to implement the following matrix functions in `Hypothesis.py`:"
   ]
  },
  {
   "cell_type": "markdown",
   "metadata": {},
   "source": [
    "`forward` function: Given input $x$,\n",
    "We want to compute the following function which takes a vector $x_{l\\times1}$ and returns a vector $x_{m\\times1}$:\n",
    "\n",
    "$$ y_{k\\times1} =f(x_{l\\times1}) = \\text{ReLU}(\\mathbf{W}_{k×m}^{(o)} \\cdot a_{m×1} + \\mathbf{b}_{k×1}^{(o)}) $$\n",
    "Where\n",
    "$$ a_{m\\times1} = \\tanh(\\mathbf{W}_{m×l}^{(h)} \\cdot x_{l\\times1} + \\mathbf{b}_{m\\times1}^{(h)}) $$\n",
    "\n",
    "- $Relu$ is defined as a function that takes a matrix of values and sets all the negative ones to zero\n",
    "- The function parameters $\\mathbf{W}_{m×l}^{(h)}$, $\\mathbf{W}_{k×m}^{(o)}$ should be randomly initialized randomly via a standard normal distribution.\n",
    "- The function parameters $\\mathbf{b}_{m\\times1}^{(h)}$, $\\mathbf{b}_{k×1}^{(o)}$ should be initialized as zero\n",
    "\n",
    "- The user decides the values $l$, $m$, $n$ but when they supply $x$ for computation it must be asserted that it's a column vector of length $l$\n"
   ]
  },
  {
   "cell_type": "markdown",
   "metadata": {},
   "source": [
    "\n",
    "`double_forward` function: Given two inputs $x_{l\\times1}$ and $x'_{l\\times1}$ \n",
    "1. Pass each through the forward function and concatenate the results\n",
    "   $$y_{k\\times1} =f(x_{l\\times1})$$\n",
    "   $$y'_{k\\times1} =f(x'_{l\\times1})$$\n",
    "   $$ z = [y, y'] $$\n",
    "2. Normalize the concatenated result and return it:\n",
    "   $$ \\bar{z} = \\frac{\\text{z} - \\text{mean}(\\text{z})}{\\text{std}(\\text{z})} $$\n"
   ]
  },
  {
   "cell_type": "markdown",
   "metadata": {},
   "source": [
    "`count_params` function: \n",
    "\n",
    "This function counts the number of unknown parameters in the `forward` function. That is, it counts the total number of elements in $W^{o}$, $W^{h}$, $b^{o}$, $b^{h}$."
   ]
  },
  {
   "cell_type": "markdown",
   "metadata": {},
   "source": [
    "**Expected Time To Finish Task:** ≤ 15 Minutes"
   ]
  },
  {
   "cell_type": "code",
   "execution_count": 2,
   "metadata": {},
   "outputs": [],
   "source": [
    "import numpy as np\n",
    "from Hypothesis import HypothesisFunction\n",
    "\n",
    "hypothesis_function = HypothesisFunction(300, 200, 100)"
   ]
  },
  {
   "cell_type": "markdown",
   "metadata": {},
   "source": [
    "If you're implementation is correct, the following tests should work. You must understand them all."
   ]
  },
  {
   "cell_type": "markdown",
   "metadata": {},
   "source": [
    "#### Assertion 1: Check if the parameters are initialized correctly\n"
   ]
  },
  {
   "cell_type": "code",
   "execution_count": 3,
   "metadata": {},
   "outputs": [],
   "source": [
    "assert hypothesis_function.l == 300\n",
    "assert hypothesis_function.m == 200\n",
    "assert hypothesis_function.k == 100"
   ]
  },
  {
   "cell_type": "markdown",
   "metadata": {},
   "source": [
    "#### Assertion 2: Check if Wh and Wo are initialized from a standard normal distribution"
   ]
  },
  {
   "cell_type": "code",
   "execution_count": 4,
   "metadata": {},
   "outputs": [],
   "source": [
    "assert hypothesis_function.Wh.shape == (200, 300)\n",
    "assert hypothesis_function.Wo.shape == (100, 200)\n",
    "assert np.allclose(np.mean(hypothesis_function.Wh), 0, atol=1e-1)  # Check mean is close to 0\n",
    "assert np.allclose(np.mean(hypothesis_function.Wo), 0, atol=1e-1)  # Check mean is close to 0\n",
    "assert np.allclose(np.std(hypothesis_function.Wh), 1, atol=1e-1)   # Check std is close to 1\n",
    "assert np.allclose(np.std(hypothesis_function.Wo), 1, atol=1e-1)   # Check std is close to 1"
   ]
  },
  {
   "cell_type": "markdown",
   "metadata": {},
   "source": [
    "#### Assertion 3: Check if bo and bh are initialized as zero"
   ]
  },
  {
   "cell_type": "code",
   "execution_count": 5,
   "metadata": {},
   "outputs": [],
   "source": [
    "assert np.all(hypothesis_function.bo == 0)\n",
    "assert np.all(hypothesis_function.bh == 0)"
   ]
  },
  {
   "cell_type": "markdown",
   "metadata": {},
   "source": [
    "#### Assertion 4: Check if 'a' is computed correctly\n"
   ]
  },
  {
   "cell_type": "code",
   "execution_count": 6,
   "metadata": {},
   "outputs": [],
   "source": [
    "x = np.arange(300).reshape(-1, 1)\n",
    "y, a = hypothesis_function.forward(x)\n",
    "assert a.shape == (200, 1)"
   ]
  },
  {
   "cell_type": "markdown",
   "metadata": {},
   "source": [
    "#### Assertion 5: Check if ReLU is applied correctly"
   ]
  },
  {
   "cell_type": "code",
   "execution_count": 7,
   "metadata": {},
   "outputs": [],
   "source": [
    "y, a = hypothesis_function.forward(x)\n",
    "assert np.all(y >= 0)"
   ]
  },
  {
   "cell_type": "markdown",
   "metadata": {},
   "source": [
    "#### Assertion 6: Check if the concatenation is done correctly"
   ]
  },
  {
   "cell_type": "code",
   "execution_count": 8,
   "metadata": {},
   "outputs": [],
   "source": [
    "x1 = np.arange(300).reshape(-1, 1)\n",
    "x2 = np.arange(300).reshape(-1, 1)\n",
    "z_bar = hypothesis_function.double_forward(x1, x2)\n",
    "assert z_bar.shape == (200, 1)"
   ]
  },
  {
   "cell_type": "markdown",
   "metadata": {},
   "source": [
    "#### Assertion 7: Check if normalization is done correctly"
   ]
  },
  {
   "cell_type": "code",
   "execution_count": 9,
   "metadata": {},
   "outputs": [],
   "source": [
    "assert np.allclose(z_bar.mean(), 0, atol=1e-2)  # Check mean is close to 0\n",
    "assert np.allclose(z_bar.std(), 1, atol=1e-2)   # Check std is close to 1"
   ]
  },
  {
   "cell_type": "markdown",
   "metadata": {},
   "source": [
    "#### Assertion 8: Check count parameters"
   ]
  },
  {
   "cell_type": "code",
   "execution_count": 10,
   "metadata": {},
   "outputs": [],
   "source": [
    "assert hypothesis_function.count_params() == 300*200 + 200*100 + 100 + 200"
   ]
  },
  {
   "cell_type": "code",
   "execution_count": null,
   "metadata": {},
   "outputs": [],
   "source": []
  }
 ],
 "metadata": {
  "kernelspec": {
   "display_name": "Python 3",
   "language": "python",
   "name": "python3"
  },
  "language_info": {
   "codemirror_mode": {
    "name": "ipython",
    "version": 3
   },
   "file_extension": ".py",
   "mimetype": "text/x-python",
   "name": "python",
   "nbconvert_exporter": "python",
   "pygments_lexer": "ipython3",
   "version": "3.10.12"
  }
 },
 "nbformat": 4,
 "nbformat_minor": 2
}
