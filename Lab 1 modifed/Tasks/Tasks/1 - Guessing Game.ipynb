{
 "cells": [
  {
   "cell_type": "markdown",
   "metadata": {},
   "source": [
    "## 🎲 Guessing Game"
   ]
  },
  {
   "cell_type": "markdown",
   "metadata": {},
   "source": [
    "In this assignment, you will implement a simple guessing game in Python. The game will generate a random number between 1 and a specified maximum value, and the player will have a limited number of attempts to guess the correct number. Implement the following requirement in `Game.py`"
   ]
  },
  {
   "cell_type": "markdown",
   "metadata": {},
   "source": [
    "### Requirement"
   ]
  },
  {
   "cell_type": "markdown",
   "metadata": {},
   "source": [
    "1. Implement the `guessing_game` function which takes two parameters:\n",
    "\n",
    "- `max`: The maximum value for the range of random numbers.\n",
    "- `attempts`: The maximum number of attempts to guess the number. This should be a keyword-only argument.\n",
    "\n",
    "2. The function should generate a random number between `1` and `max` (inclusive) and ask the user to guess a number in that range.\n",
    "\n",
    "3. After receiving the user guess, the function should provide feedback if the guess is `too low`, `too high`, or `correct` and the number of `attempts` left.\n",
    "\n",
    "4. Note that you should use `try-except` so if the user provides an input that Python can't explictly convert into an integer, then a meaningful exception should be raised.\n",
    "\n",
    "5. The function should continue prompting the user for guesses until they guess the correct number or run out of attempts and print a relevent message.\n",
    "\n",
    "6. The function should return `True` if the user guesses the correct number within the allowed attempts, and `False` otherwise. In both cases, it should also return a tuple `guesses` listing the guesses by the users and an integer `chosen_int` for the correct guess.\n",
    "\n",
    "7. Additionally, implement a `play_game()` function that:\n",
    "\n",
    "- Calls `guessing_game(max, attempts)` with a maximum value of `20` and `5` attempts.\n",
    "- If the player has lost\n",
    "    - It asserts that the tuple `guesses` did not have the number `chosen_int`, printing an error if the assertion fails, and asks them if they want to play again where the program repeats if they answer `yes`. \n",
    "- If the player has won\n",
    "    - It asserts that `chosen_int` is indeed in guesses, printing an error if the assertion fails, and ends the program\n",
    "\n",
    "8. Both functions and variables therein should be type-annotated and optionally documented\n",
    "\n",
    "If it helps, you can define additional functions and call them within the two mentioned above for better organization."
   ]
  },
  {
   "cell_type": "markdown",
   "metadata": {},
   "source": [
    "**Expected Time To Finish Task:** ≤ 30 Minutes"
   ]
  },
  {
   "cell_type": "code",
   "execution_count": 5,
   "metadata": {},
   "outputs": [
    {
     "name": "stdout",
     "output_type": "stream",
     "text": [
      "You have 5 attempts to guess the number.\n"
     ]
    },
    {
     "ename": "ValueError",
     "evalue": "value must be numeric ",
     "output_type": "error",
     "traceback": [
      "\u001b[0;31m---------------------------------------------------------------------------\u001b[0m",
      "\u001b[0;31mValueError\u001b[0m                                Traceback (most recent call last)",
      "File \u001b[0;32m/mnt/6C7066F17066C186/spring24-4.2/pattern/labs/Lab 1 modifed/Tasks/Tasks/Game.py:11\u001b[0m, in \u001b[0;36mguessing_game\u001b[0;34m(max, attempts)\u001b[0m\n\u001b[1;32m     10\u001b[0m \u001b[38;5;28;01mtry\u001b[39;00m : \n\u001b[0;32m---> 11\u001b[0m     number \u001b[38;5;241m=\u001b[39m \u001b[38;5;28;43mint\u001b[39;49m\u001b[43m(\u001b[49m\u001b[38;5;28;43minput\u001b[39;49m\u001b[43m(\u001b[49m\u001b[38;5;124;43m\"\u001b[39;49m\u001b[38;5;124;43mGuess a number betweem 1  and \u001b[39;49m\u001b[38;5;124;43m\"\u001b[39;49m\u001b[38;5;241;43m+\u001b[39;49m\u001b[43m \u001b[49m\u001b[38;5;28;43mstr\u001b[39;49m\u001b[43m(\u001b[49m\u001b[38;5;28;43mmax\u001b[39;49m\u001b[43m)\u001b[49m\u001b[43m \u001b[49m\u001b[38;5;241;43m+\u001b[39;49m\u001b[43m \u001b[49m\u001b[38;5;124;43m\"\u001b[39;49m\u001b[38;5;124;43m : \u001b[39;49m\u001b[38;5;124;43m\"\u001b[39;49m\u001b[43m)\u001b[49m\u001b[43m)\u001b[49m \n\u001b[1;32m     13\u001b[0m \u001b[38;5;28;01mexcept\u001b[39;00m \u001b[38;5;167;01mValueError\u001b[39;00m:\n",
      "\u001b[0;31mValueError\u001b[0m: invalid literal for int() with base 10: ''",
      "\nDuring handling of the above exception, another exception occurred:\n",
      "\u001b[0;31mValueError\u001b[0m                                Traceback (most recent call last)",
      "Cell \u001b[0;32mIn[5], line 1\u001b[0m\n\u001b[0;32m----> 1\u001b[0m \u001b[38;5;28;01mfrom\u001b[39;00m \u001b[38;5;21;01mGame\u001b[39;00m \u001b[38;5;28;01mimport\u001b[39;00m play_game\n\u001b[1;32m      3\u001b[0m play_game()\n",
      "File \u001b[0;32m/mnt/6C7066F17066C186/spring24-4.2/pattern/labs/Lab 1 modifed/Tasks/Tasks/Game.py:61\u001b[0m\n\u001b[1;32m     57\u001b[0m                 play_game()\n\u001b[1;32m     59\u001b[0m     \u001b[38;5;28;01mreturn\u001b[39;00m\n\u001b[0;32m---> 61\u001b[0m \u001b[43mplay_game\u001b[49m\u001b[43m(\u001b[49m\u001b[43m)\u001b[49m\n",
      "File \u001b[0;32m/mnt/6C7066F17066C186/spring24-4.2/pattern/labs/Lab 1 modifed/Tasks/Tasks/Game.py:47\u001b[0m, in \u001b[0;36mplay_game\u001b[0;34m()\u001b[0m\n\u001b[1;32m     45\u001b[0m max_value:\u001b[38;5;28mint\u001b[39m \u001b[38;5;241m=\u001b[39m \u001b[38;5;241m20\u001b[39m\n\u001b[1;32m     46\u001b[0m attempts:\u001b[38;5;28mint\u001b[39m \u001b[38;5;241m=\u001b[39m \u001b[38;5;241m5\u001b[39m\n\u001b[0;32m---> 47\u001b[0m answered , Guesses, chosen_int\u001b[38;5;241m=\u001b[39m \u001b[43mguessing_game\u001b[49m\u001b[43m(\u001b[49m\u001b[43mmax_value\u001b[49m\u001b[43m,\u001b[49m\u001b[43m \u001b[49m\u001b[43mattempts\u001b[49m\u001b[43m \u001b[49m\u001b[38;5;241;43m=\u001b[39;49m\u001b[43m \u001b[49m\u001b[43mattempts\u001b[49m\u001b[43m)\u001b[49m\n\u001b[1;32m     48\u001b[0m \u001b[38;5;28;01mif\u001b[39;00m answered \u001b[38;5;241m==\u001b[39m \u001b[38;5;28;01mTrue\u001b[39;00m:\n\u001b[1;32m     49\u001b[0m     \u001b[38;5;28;01massert\u001b[39;00m Guesses[\u001b[38;5;241m-\u001b[39m\u001b[38;5;241m1\u001b[39m] \u001b[38;5;241m==\u001b[39m chosen_int  , \u001b[38;5;124m\"\u001b[39m\u001b[38;5;124m Error ! , the chosen_int should be in the list \u001b[39m\u001b[38;5;124m\"\u001b[39m \n",
      "File \u001b[0;32m/mnt/6C7066F17066C186/spring24-4.2/pattern/labs/Lab 1 modifed/Tasks/Tasks/Game.py:14\u001b[0m, in \u001b[0;36mguessing_game\u001b[0;34m(max, attempts)\u001b[0m\n\u001b[1;32m     11\u001b[0m     number \u001b[38;5;241m=\u001b[39m \u001b[38;5;28mint\u001b[39m(\u001b[38;5;28minput\u001b[39m(\u001b[38;5;124m\"\u001b[39m\u001b[38;5;124mGuess a number betweem 1  and \u001b[39m\u001b[38;5;124m\"\u001b[39m\u001b[38;5;241m+\u001b[39m \u001b[38;5;28mstr\u001b[39m(\u001b[38;5;28mmax\u001b[39m) \u001b[38;5;241m+\u001b[39m \u001b[38;5;124m\"\u001b[39m\u001b[38;5;124m : \u001b[39m\u001b[38;5;124m\"\u001b[39m)) \n\u001b[1;32m     13\u001b[0m \u001b[38;5;28;01mexcept\u001b[39;00m \u001b[38;5;167;01mValueError\u001b[39;00m:\n\u001b[0;32m---> 14\u001b[0m     \u001b[38;5;28;01mraise\u001b[39;00m \u001b[38;5;167;01mValueError\u001b[39;00m(\u001b[38;5;124m\"\u001b[39m\u001b[38;5;124mvalue must be numeric \u001b[39m\u001b[38;5;124m\"\u001b[39m)\n\u001b[1;32m     15\u001b[0m     \u001b[38;5;66;03m# print(\"Invalid input, please input integer !! \" , flush=True)\u001b[39;00m\n\u001b[1;32m     16\u001b[0m     \u001b[38;5;28;01mreturn\u001b[39;00m \u001b[38;5;28;01mFalse\u001b[39;00m, [], \u001b[38;5;241m0\u001b[39m\n",
      "\u001b[0;31mValueError\u001b[0m: value must be numeric "
     ]
    }
   ],
   "source": [
    "from Game import play_game\n",
    "\n",
    "play_game()"
   ]
  },
  {
   "cell_type": "code",
   "execution_count": null,
   "metadata": {},
   "outputs": [],
   "source": []
  }
 ],
 "metadata": {
  "kernelspec": {
   "display_name": "Python 3",
   "language": "python",
   "name": "python3"
  },
  "language_info": {
   "codemirror_mode": {
    "name": "ipython",
    "version": 3
   },
   "file_extension": ".py",
   "mimetype": "text/x-python",
   "name": "python",
   "nbconvert_exporter": "python",
   "pygments_lexer": "ipython3",
   "version": "3.10.12"
  }
 },
 "nbformat": 4,
 "nbformat_minor": 2
}
