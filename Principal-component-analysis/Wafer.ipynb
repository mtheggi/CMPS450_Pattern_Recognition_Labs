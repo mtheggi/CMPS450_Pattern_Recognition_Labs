{
 "cells": [
  {
   "cell_type": "markdown",
   "metadata": {},
   "source": [
    "# 🏭 Detecting Manufacturing Anomalies"
   ]
  },
  {
   "cell_type": "markdown",
   "metadata": {},
   "source": [
    "Anomaly detection is pivotal in products as it enables early issue identification, quality assurance improvement, security enhancement, performance optimization, fraud prevention, predictive maintenance, and enhanced customer experience. \n",
    "\n",
    "In this problem, we have a set of data comprising 1558 attributes from a manufactuing machine for a handful products samples and whether each product is good or anamoulous (e.g., has a defect). By training a supervised machine learning model on such data, we can be able to infer whether a new product is good or anamous given its 1558 attributes."
   ]
  },
  {
   "cell_type": "code",
   "execution_count": 2,
   "metadata": {},
   "outputs": [
    {
     "name": "stdout",
     "output_type": "stream",
     "text": [
      "The autoreload extension is already loaded. To reload it, use:\n",
      "  %reload_ext autoreload\n"
     ]
    }
   ],
   "source": [
    "%load_ext autoreload\n",
    "%autoreload 2\n",
    "\n",
    "import numpy as np\n",
    "import matplotlib.pyplot as plt\n",
    "import pandas as pd\n",
    "from sklearn.model_selection import train_test_split"
   ]
  },
  {
   "cell_type": "markdown",
   "metadata": {},
   "source": [
    "#### Data Ingestion"
   ]
  },
  {
   "cell_type": "code",
   "execution_count": 3,
   "metadata": {},
   "outputs": [
    {
     "name": "stdout",
     "output_type": "stream",
     "text": [
      "Dataset has 1763 rows and 1559 columns\n"
     ]
    },
    {
     "data": {
      "text/html": [
       "<div>\n",
       "<style scoped>\n",
       "    .dataframe tbody tr th:only-of-type {\n",
       "        vertical-align: middle;\n",
       "    }\n",
       "\n",
       "    .dataframe tbody tr th {\n",
       "        vertical-align: top;\n",
       "    }\n",
       "\n",
       "    .dataframe thead th {\n",
       "        text-align: right;\n",
       "    }\n",
       "</style>\n",
       "<table border=\"1\" class=\"dataframe\">\n",
       "  <thead>\n",
       "    <tr style=\"text-align: right;\">\n",
       "      <th></th>\n",
       "      <th>feature_1</th>\n",
       "      <th>feature_2</th>\n",
       "      <th>feature_3</th>\n",
       "      <th>feature_4</th>\n",
       "      <th>feature_5</th>\n",
       "      <th>feature_6</th>\n",
       "      <th>feature_7</th>\n",
       "      <th>feature_8</th>\n",
       "      <th>feature_9</th>\n",
       "      <th>feature_10</th>\n",
       "      <th>...</th>\n",
       "      <th>feature_1550</th>\n",
       "      <th>feature_1551</th>\n",
       "      <th>feature_1552</th>\n",
       "      <th>feature_1553</th>\n",
       "      <th>feature_1554</th>\n",
       "      <th>feature_1555</th>\n",
       "      <th>feature_1556</th>\n",
       "      <th>feature_1557</th>\n",
       "      <th>feature_1558</th>\n",
       "      <th>Class</th>\n",
       "    </tr>\n",
       "  </thead>\n",
       "  <tbody>\n",
       "    <tr>\n",
       "      <th>0</th>\n",
       "      <td>100</td>\n",
       "      <td>160</td>\n",
       "      <td>1.6000</td>\n",
       "      <td>0</td>\n",
       "      <td>0</td>\n",
       "      <td>0</td>\n",
       "      <td>0</td>\n",
       "      <td>0</td>\n",
       "      <td>0</td>\n",
       "      <td>0</td>\n",
       "      <td>...</td>\n",
       "      <td>0</td>\n",
       "      <td>0</td>\n",
       "      <td>0</td>\n",
       "      <td>0</td>\n",
       "      <td>0</td>\n",
       "      <td>0</td>\n",
       "      <td>0</td>\n",
       "      <td>0</td>\n",
       "      <td>0</td>\n",
       "      <td>0</td>\n",
       "    </tr>\n",
       "    <tr>\n",
       "      <th>1</th>\n",
       "      <td>20</td>\n",
       "      <td>83</td>\n",
       "      <td>4.1500</td>\n",
       "      <td>1</td>\n",
       "      <td>0</td>\n",
       "      <td>0</td>\n",
       "      <td>0</td>\n",
       "      <td>0</td>\n",
       "      <td>0</td>\n",
       "      <td>1</td>\n",
       "      <td>...</td>\n",
       "      <td>0</td>\n",
       "      <td>0</td>\n",
       "      <td>0</td>\n",
       "      <td>0</td>\n",
       "      <td>0</td>\n",
       "      <td>1</td>\n",
       "      <td>0</td>\n",
       "      <td>0</td>\n",
       "      <td>0</td>\n",
       "      <td>0</td>\n",
       "    </tr>\n",
       "    <tr>\n",
       "      <th>2</th>\n",
       "      <td>99</td>\n",
       "      <td>150</td>\n",
       "      <td>1.5151</td>\n",
       "      <td>1</td>\n",
       "      <td>0</td>\n",
       "      <td>0</td>\n",
       "      <td>0</td>\n",
       "      <td>0</td>\n",
       "      <td>0</td>\n",
       "      <td>0</td>\n",
       "      <td>...</td>\n",
       "      <td>0</td>\n",
       "      <td>0</td>\n",
       "      <td>0</td>\n",
       "      <td>0</td>\n",
       "      <td>0</td>\n",
       "      <td>0</td>\n",
       "      <td>0</td>\n",
       "      <td>0</td>\n",
       "      <td>0</td>\n",
       "      <td>0</td>\n",
       "    </tr>\n",
       "    <tr>\n",
       "      <th>3</th>\n",
       "      <td>40</td>\n",
       "      <td>40</td>\n",
       "      <td>1.0000</td>\n",
       "      <td>0</td>\n",
       "      <td>0</td>\n",
       "      <td>0</td>\n",
       "      <td>0</td>\n",
       "      <td>0</td>\n",
       "      <td>0</td>\n",
       "      <td>0</td>\n",
       "      <td>...</td>\n",
       "      <td>0</td>\n",
       "      <td>0</td>\n",
       "      <td>0</td>\n",
       "      <td>0</td>\n",
       "      <td>0</td>\n",
       "      <td>0</td>\n",
       "      <td>0</td>\n",
       "      <td>0</td>\n",
       "      <td>0</td>\n",
       "      <td>0</td>\n",
       "    </tr>\n",
       "    <tr>\n",
       "      <th>4</th>\n",
       "      <td>12</td>\n",
       "      <td>234</td>\n",
       "      <td>19.5000</td>\n",
       "      <td>1</td>\n",
       "      <td>0</td>\n",
       "      <td>0</td>\n",
       "      <td>0</td>\n",
       "      <td>0</td>\n",
       "      <td>0</td>\n",
       "      <td>0</td>\n",
       "      <td>...</td>\n",
       "      <td>0</td>\n",
       "      <td>0</td>\n",
       "      <td>0</td>\n",
       "      <td>0</td>\n",
       "      <td>0</td>\n",
       "      <td>0</td>\n",
       "      <td>0</td>\n",
       "      <td>0</td>\n",
       "      <td>0</td>\n",
       "      <td>0</td>\n",
       "    </tr>\n",
       "    <tr>\n",
       "      <th>5</th>\n",
       "      <td>90</td>\n",
       "      <td>90</td>\n",
       "      <td>1.0000</td>\n",
       "      <td>0</td>\n",
       "      <td>0</td>\n",
       "      <td>0</td>\n",
       "      <td>0</td>\n",
       "      <td>0</td>\n",
       "      <td>0</td>\n",
       "      <td>0</td>\n",
       "      <td>...</td>\n",
       "      <td>0</td>\n",
       "      <td>0</td>\n",
       "      <td>0</td>\n",
       "      <td>0</td>\n",
       "      <td>0</td>\n",
       "      <td>0</td>\n",
       "      <td>0</td>\n",
       "      <td>0</td>\n",
       "      <td>0</td>\n",
       "      <td>0</td>\n",
       "    </tr>\n",
       "    <tr>\n",
       "      <th>6</th>\n",
       "      <td>1</td>\n",
       "      <td>1</td>\n",
       "      <td>2.0000</td>\n",
       "      <td>1</td>\n",
       "      <td>0</td>\n",
       "      <td>0</td>\n",
       "      <td>0</td>\n",
       "      <td>0</td>\n",
       "      <td>0</td>\n",
       "      <td>0</td>\n",
       "      <td>...</td>\n",
       "      <td>0</td>\n",
       "      <td>0</td>\n",
       "      <td>0</td>\n",
       "      <td>0</td>\n",
       "      <td>0</td>\n",
       "      <td>0</td>\n",
       "      <td>0</td>\n",
       "      <td>0</td>\n",
       "      <td>0</td>\n",
       "      <td>0</td>\n",
       "    </tr>\n",
       "    <tr>\n",
       "      <th>7</th>\n",
       "      <td>15</td>\n",
       "      <td>80</td>\n",
       "      <td>5.3333</td>\n",
       "      <td>0</td>\n",
       "      <td>0</td>\n",
       "      <td>0</td>\n",
       "      <td>0</td>\n",
       "      <td>0</td>\n",
       "      <td>0</td>\n",
       "      <td>0</td>\n",
       "      <td>...</td>\n",
       "      <td>0</td>\n",
       "      <td>0</td>\n",
       "      <td>0</td>\n",
       "      <td>0</td>\n",
       "      <td>0</td>\n",
       "      <td>0</td>\n",
       "      <td>0</td>\n",
       "      <td>0</td>\n",
       "      <td>0</td>\n",
       "      <td>0</td>\n",
       "    </tr>\n",
       "    <tr>\n",
       "      <th>8</th>\n",
       "      <td>100</td>\n",
       "      <td>190</td>\n",
       "      <td>1.9000</td>\n",
       "      <td>0</td>\n",
       "      <td>0</td>\n",
       "      <td>0</td>\n",
       "      <td>0</td>\n",
       "      <td>0</td>\n",
       "      <td>0</td>\n",
       "      <td>0</td>\n",
       "      <td>...</td>\n",
       "      <td>0</td>\n",
       "      <td>0</td>\n",
       "      <td>0</td>\n",
       "      <td>0</td>\n",
       "      <td>0</td>\n",
       "      <td>0</td>\n",
       "      <td>0</td>\n",
       "      <td>0</td>\n",
       "      <td>0</td>\n",
       "      <td>0</td>\n",
       "    </tr>\n",
       "    <tr>\n",
       "      <th>9</th>\n",
       "      <td>1</td>\n",
       "      <td>1</td>\n",
       "      <td>2.0000</td>\n",
       "      <td>1</td>\n",
       "      <td>0</td>\n",
       "      <td>0</td>\n",
       "      <td>0</td>\n",
       "      <td>0</td>\n",
       "      <td>0</td>\n",
       "      <td>0</td>\n",
       "      <td>...</td>\n",
       "      <td>0</td>\n",
       "      <td>0</td>\n",
       "      <td>0</td>\n",
       "      <td>0</td>\n",
       "      <td>0</td>\n",
       "      <td>0</td>\n",
       "      <td>0</td>\n",
       "      <td>0</td>\n",
       "      <td>0</td>\n",
       "      <td>0</td>\n",
       "    </tr>\n",
       "  </tbody>\n",
       "</table>\n",
       "<p>10 rows × 1559 columns</p>\n",
       "</div>"
      ],
      "text/plain": [
       "   feature_1  feature_2  feature_3  feature_4  feature_5  feature_6  \\\n",
       "0        100        160     1.6000          0          0          0   \n",
       "1         20         83     4.1500          1          0          0   \n",
       "2         99        150     1.5151          1          0          0   \n",
       "3         40         40     1.0000          0          0          0   \n",
       "4         12        234    19.5000          1          0          0   \n",
       "5         90         90     1.0000          0          0          0   \n",
       "6          1          1     2.0000          1          0          0   \n",
       "7         15         80     5.3333          0          0          0   \n",
       "8        100        190     1.9000          0          0          0   \n",
       "9          1          1     2.0000          1          0          0   \n",
       "\n",
       "   feature_7  feature_8  feature_9  feature_10  ...  feature_1550  \\\n",
       "0          0          0          0           0  ...             0   \n",
       "1          0          0          0           1  ...             0   \n",
       "2          0          0          0           0  ...             0   \n",
       "3          0          0          0           0  ...             0   \n",
       "4          0          0          0           0  ...             0   \n",
       "5          0          0          0           0  ...             0   \n",
       "6          0          0          0           0  ...             0   \n",
       "7          0          0          0           0  ...             0   \n",
       "8          0          0          0           0  ...             0   \n",
       "9          0          0          0           0  ...             0   \n",
       "\n",
       "   feature_1551  feature_1552  feature_1553  feature_1554  feature_1555  \\\n",
       "0             0             0             0             0             0   \n",
       "1             0             0             0             0             1   \n",
       "2             0             0             0             0             0   \n",
       "3             0             0             0             0             0   \n",
       "4             0             0             0             0             0   \n",
       "5             0             0             0             0             0   \n",
       "6             0             0             0             0             0   \n",
       "7             0             0             0             0             0   \n",
       "8             0             0             0             0             0   \n",
       "9             0             0             0             0             0   \n",
       "\n",
       "   feature_1556  feature_1557  feature_1558  Class  \n",
       "0             0             0             0      0  \n",
       "1             0             0             0      0  \n",
       "2             0             0             0      0  \n",
       "3             0             0             0      0  \n",
       "4             0             0             0      0  \n",
       "5             0             0             0      0  \n",
       "6             0             0             0      0  \n",
       "7             0             0             0      0  \n",
       "8             0             0             0      0  \n",
       "9             0             0             0      0  \n",
       "\n",
       "[10 rows x 1559 columns]"
      ]
     },
     "execution_count": 3,
     "metadata": {},
     "output_type": "execute_result"
    }
   ],
   "source": [
    "dataset = pd.read_csv('wafer.csv')\n",
    "# print the shape of the dataset\n",
    "print(f\"Dataset has {dataset.shape[0]} rows and {dataset.shape[1]} columns\")\n",
    "\n",
    "dataset.head(10)"
   ]
  },
  {
   "cell_type": "markdown",
   "metadata": {},
   "source": [
    "#### Split the Dataset"
   ]
  },
  {
   "cell_type": "code",
   "execution_count": 4,
   "metadata": {},
   "outputs": [],
   "source": [
    "# column split\n",
    "x_data = dataset.drop(columns=['Class'])     \n",
    "y_data = dataset['Class']                              \n",
    "\n",
    "# train-test split\n",
    "x_data, y_data = x_data.to_numpy(), y_data.to_numpy()\n",
    "\n",
    "# transform y_data to -1, 1 range by replacing 0s and 1s\n",
    "y_data = np.where(y_data==0, -1, 1)\n",
    "x_train, x_val, y_train, y_val = train_test_split(x_data, y_data, test_size=0.2, \n",
    "                                                  random_state=0, stratify=y_data)"
   ]
  },
  {
   "cell_type": "markdown",
   "metadata": {},
   "source": [
    "## 😎 Machine Learning Engineering Time"
   ]
  },
  {
   "cell_type": "markdown",
   "metadata": {},
   "source": [
    "Let's try our Adaboost library:"
   ]
  },
  {
   "cell_type": "code",
   "execution_count": 5,
   "metadata": {},
   "outputs": [
    {
     "name": "stdout",
     "output_type": "stream",
     "text": [
      "AdaBoost Accuracy: 0.921\n",
      "F1 Score: 0.417\n"
     ]
    }
   ],
   "source": [
    "from Adaboost import Adaboost\n",
    "from sklearn.metrics import f1_score\n",
    "\n",
    "ada_model = Adaboost(T=1000)\n",
    "ada_model.fit(x_train, y_train)\n",
    "ada_y_pred = ada_model.predict(x_val)\n",
    "ada_accuracy = ada_model.score(x_val, y_val)\n",
    "print(\"AdaBoost Accuracy:\", round(ada_accuracy, 3))\n",
    "\n",
    "f1 = f1_score(y_val, ada_y_pred)\n",
    "print(\"F1 Score:\", round(f1, 3))"
   ]
  },
  {
   "cell_type": "markdown",
   "metadata": {},
   "source": [
    "Let's try another model to more fairly judge Adaboost's performance"
   ]
  },
  {
   "cell_type": "code",
   "execution_count": 10,
   "metadata": {},
   "outputs": [
    {
     "name": "stdout",
     "output_type": "stream",
     "text": [
      "Gaussian Naive Bayes Accuracy: 0.779\n",
      "F1 Score: 0.339\n"
     ]
    }
   ],
   "source": [
    "from sklearn.naive_bayes import GaussianNB\n",
    "\n",
    "gnb_model = GaussianNB()\n",
    "gnb_model.fit(x_train, y_train)\n",
    "gnb_y_pred = gnb_model.predict(x_val)\n",
    "gnb_accuracy = gnb_model.score(x_val, y_val)\n",
    "\n",
    "print(\"Gaussian Naive Bayes Accuracy:\", round(gnb_accuracy, 3))\n",
    "\n",
    "f1 = f1_score(y_val, gnb_y_pred)\n",
    "print(\"F1 Score:\", round(f1, 3))"
   ]
  },
  {
   "cell_type": "markdown",
   "metadata": {},
   "source": [
    "- Why is there a discripancy between the accuracy and F1-score for both models. In your explaination, write code that illustrates any points that need to be made and decide which of them is the right choice for this problem."
   ]
  },
  {
   "cell_type": "code",
   "execution_count": 12,
   "metadata": {},
   "outputs": [
    {
     "data": {
      "text/plain": [
       "'\\nf1 = tp / tp + 1/2(fp + fn)\\nf1 is low is an indication that the model has a poor performance on the positive class (having a defect)\\n\\n'"
      ]
     },
     "execution_count": 12,
     "metadata": {},
     "output_type": "execute_result"
    }
   ],
   "source": [
    "'''\n",
    "f1 = tp / tp + 1/2(fp + fn)\n",
    "f1 is low is an indication that the model has a poor performance on the positive class (having a defect)\n",
    "\n",
    "'''"
   ]
  },
  {
   "cell_type": "markdown",
   "metadata": {},
   "source": [
    "- Why is Gaussian Naives Bayes faster than Adaboost and why is it less performant?"
   ]
  },
  {
   "cell_type": "code",
   "execution_count": 11,
   "metadata": {},
   "outputs": [
    {
     "data": {
      "text/plain": [
       "'\\nspeed: \\nbeacuse adaboost is an iterative algorithm, it starts with weak learners and then imporves the model by adding more weak learners. \\n\\nwhile GNB is a simpler model that assumes that features is independent of each other. \\nperformance: \\n    GNB because of strong assumption of feature indpendence, \\n    adaboost is more flexible and can capture complex patterns in the data\\n\\n'"
      ]
     },
     "execution_count": 11,
     "metadata": {},
     "output_type": "execute_result"
    }
   ],
   "source": [
    "'''\n",
    "speed: \n",
    "beacuse adaboost is an iterative algorithm, it starts with weak learners and then imporves the model by adding more weak learners. \n",
    "\n",
    "while GNB is a simpler model that assumes that features is independent of each other. \n",
    "performance: \n",
    "    GNB because of strong assumption of feature indpendence, \n",
    "    adaboost is more flexible and can capture complex patterns in the data\n",
    "\n",
    "'''"
   ]
  },
  {
   "cell_type": "markdown",
   "metadata": {},
   "source": [
    "#### 👨🏻‍🔬 Now let's try PCA on the features:"
   ]
  },
  {
   "cell_type": "markdown",
   "metadata": {},
   "source": [
    "We won't be so greedy. Let's start by attempting to reduce the dimensionality from 1559D to 3D."
   ]
  },
  {
   "cell_type": "code",
   "execution_count": 7,
   "metadata": {},
   "outputs": [
    {
     "name": "stdout",
     "output_type": "stream",
     "text": [
      "shape of U  (1558, 1558)\n",
      "test [30.27943508 28.86898365 26.4599253  ...  0.          0.\n",
      "  0.        ]\n",
      "shape of U  (1558, 1558)\n",
      "(3, 1558)\n",
      "Training data has 1410 rows and 3 columns\n"
     ]
    }
   ],
   "source": [
    "from PCA import PCA\n",
    "\n",
    "pca = PCA(new_dim=3)\n",
    "x_train_pca = pca.fit_transform(x_train)\n",
    "x_val_pca = pca.transform(x_val)            # ask yourself, why did we not use pca.fit_transform(x_val)\n",
    "\n",
    "print(f\"Training data has {x_train_pca.shape[0]} rows and {x_train_pca.shape[1]} columns\")"
   ]
  },
  {
   "cell_type": "markdown",
   "metadata": {},
   "source": [
    "Now let's try Adaboost on the data with reduced dimensionality:"
   ]
  },
  {
   "cell_type": "code",
   "execution_count": 8,
   "metadata": {},
   "outputs": [
    {
     "name": "stdout",
     "output_type": "stream",
     "text": [
      "AdaBoost Accuracy: 0.921\n",
      "F1 Score: 0.417\n"
     ]
    }
   ],
   "source": [
    "from Adaboost import Adaboost\n",
    "from sklearn.metrics import f1_score\n",
    "\n",
    "ada_model = Adaboost(T=1000)\n",
    "ada_model.fit(x_train_pca, y_train)\n",
    "ada_y_pred = ada_model.predict(x_val_pca)\n",
    "ada_accuracy = ada_model.score(x_val_pca, y_val)\n",
    "print(\"AdaBoost Accuracy:\", round(ada_accuracy, 3))\n",
    "\n",
    "f1 = f1_score(y_val, ada_y_pred)\n",
    "print(\"F1 Score:\", round(f1, 3))"
   ]
  },
  {
   "cell_type": "markdown",
   "metadata": {},
   "source": [
    "Let's try Gaussian Naive Bayes"
   ]
  },
  {
   "cell_type": "code",
   "execution_count": 9,
   "metadata": {},
   "outputs": [
    {
     "name": "stdout",
     "output_type": "stream",
     "text": [
      "Gaussian Naive Bayes Accuracy: 0.929\n",
      "F1 Score: 0.444\n"
     ]
    }
   ],
   "source": [
    "# import gaussian naive bayes\n",
    "from sklearn.naive_bayes import GaussianNB\n",
    "\n",
    "gnb_model = GaussianNB()\n",
    "gnb_model.fit(x_train_pca, y_train)\n",
    "gnb_y_pred = gnb_model.predict(x_val_pca)\n",
    "gnb_accuracy = gnb_model.score(x_val_pca, y_val)\n",
    "\n",
    "print(\"Gaussian Naive Bayes Accuracy:\", round(gnb_accuracy, 3))\n",
    "\n",
    "f1 = f1_score(y_val, gnb_y_pred)\n",
    "print(\"F1 Score:\", round(f1, 3))"
   ]
  },
  {
   "cell_type": "markdown",
   "metadata": {},
   "source": [
    "- In view of the results above, explain what benefit we got from using PCA for each of Adaboost and Gaussian Naive Bayes (whether in terms of speed or performance). What effect in machine learning was responsible of making Gaussian Naive Bayes perform much worse when the dimensionality was high?"
   ]
  },
  {
   "cell_type": "code",
   "execution_count": null,
   "metadata": {},
   "outputs": [],
   "source": [
    "'''\n",
    "Answer\n",
    "'''"
   ]
  },
  {
   "cell_type": "markdown",
   "metadata": {},
   "source": [
    "<div align=\"center\" >\n",
    "    <img src=\"https://media1.tenor.com/m/pWeXVj_pjM4AAAAC/perfection-michael-fassbender.gif\" width=800>\n",
    "</div>"
   ]
  }
 ],
 "metadata": {
  "kernelspec": {
   "display_name": "Python 3",
   "language": "python",
   "name": "python3"
  },
  "language_info": {
   "codemirror_mode": {
    "name": "ipython",
    "version": 3
   },
   "file_extension": ".py",
   "mimetype": "text/x-python",
   "name": "python",
   "nbconvert_exporter": "python",
   "pygments_lexer": "ipython3",
   "version": "3.10.12"
  }
 },
 "nbformat": 4,
 "nbformat_minor": 2
}
